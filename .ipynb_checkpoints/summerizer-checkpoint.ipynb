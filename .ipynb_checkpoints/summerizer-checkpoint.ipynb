{
 "cells": [
  {
   "cell_type": "code",
   "execution_count": 67,
   "id": "3ad4a07a",
   "metadata": {},
   "outputs": [],
   "source": [
    "import openai\n",
    "import requests\n",
    "from bs4 import BeautifulSoup\n",
    "import re\n",
    "\n",
    "# Load OpenAI API key from file\n",
    "with open(\"openai_api_key.txt\", \"r\") as f:\n",
    "    api_key = f.read().strip()\n",
    "\n",
    "openai.api_key = api_key\n",
    "\n",
    "\n",
    "# Define the URL of the article to summarize\n",
    "url = \"https://www.theguardian.com/uk-news/2023/feb/04/rishi-sunak-stop-deportation-appeals-people-uk-small-boats\"\n"
   ]
  },
  {
   "cell_type": "code",
   "execution_count": 68,
   "id": "b7f3e666",
   "metadata": {},
   "outputs": [
    {
     "name": "stdout",
     "output_type": "stream",
     "text": [
      "Home Office reportedly proposed two options to try to prevent those crossing Channel from claiming asylum\n",
      "Rishi Sunak is proposing to stop asylum seekers who cross the Channel in small boats from appealing against their deportation, according to reports.\n",
      "The Home Office, led by Suella Braverman, had put forward two options for the prime minister’s consideration as he attempts to automatically prevent those arriving in Britain from claiming asylum, the Times reported.\n",
      "It is understood one proposal would be to withdraw people’s right to appeal against their automatic exclusion from the asylum system. Under the other scheme, people arriving on small boats would only be allowed to lodge an appeal after they had already been deported.\n",
      "Under the current law, all asylum seekers have the right to remain in Britain to have their cases heard but Sunak has vowed in recent weeks to “stop the boats”.\n",
      "A Home Office spokesperson said: “The unacceptable number of people risking their lives by making these dangerous crossings is placing an unprecedented strain on our asylum system.\n",
      "“Our priority is to stop this and prevent these illegal crossings, and our new small boats operational command – bolstered by hundreds of extra staff – is working hard to disrupt the business model of people smugglers.\n",
      "“We are also going further by introducing legislation which will ensure that those people arriving in the UK illegally are detained and promptly removed either to their home country or a safe third country.”\n",
      "A leading refugee charity has calculated that more than 45,000 people who have crossed the Channel in small boats this year would have been detained indefinitely in a “permanent limbo” under the Conservative government’s proposed migration policy.\n",
      "An analysis by the Refugee Council found that, because of a lack of returns agreements with other countries, 45,237 men, women and children who arrived in 2022 would have been held in detention but would not have been deported.\n",
      "The figures show a 60% rise compared with available data from the previous year.\n",
      "“They would not be able to be removed, but neither would they be able to progress an asylum application, work or access support from statutory services,” the group said in a statement.\n",
      "Sign up to First Edition\n",
      "Archie Bland and Nimo Omer take you through the top stories and what they mean, free every weekday morning\n",
      "after newsletter promotion\n",
      "The government is understood to be working on draft legislation that would bar asylum seekers from using the Human Rights Act to avoid deportation. Refugees are now able to claim that their right to family life or right to liberty was being breached.\n",
      "In an interview with TalkTV, Sunak said the law would give the state powers to detain migrants and return them to their home country or a third country, such as Rwanda.\n",
      "However, the Refugee Council said that, based on last year’s crossings, it would cost the UK nearly £1bn a year to detain all those who arrived.\n",
      "A government source told the Times: “The prime minister and home secretary are working flat out to bring forward the legislation as soon as possible and ensure that it is legally watertight.”\n"
     ]
    }
   ],
   "source": [
    "\n",
    "response = requests.get(url)\n",
    "\n",
    "if response.status_code == 200:\n",
    "    soup = BeautifulSoup(response.text, 'html.parser')\n",
    "    p_tags = soup.find_all('p')\n",
    "    if len(p_tags) > 0:\n",
    "        for p in p_tags:\n",
    "            print(p.text)\n",
    "    else:\n",
    "        print(\"There are no <p> tags on the page.\")\n",
    "else:\n",
    "    print(\"Failed to get the webpage.\")\n",
    "    "
   ]
  },
  {
   "cell_type": "code",
   "execution_count": 69,
   "id": "c8bc6634",
   "metadata": {},
   "outputs": [
    {
     "ename": "KeyError",
     "evalue": "'data'",
     "output_type": "error",
     "traceback": [
      "\u001b[0;31m---------------------------------------------------------------------------\u001b[0m",
      "\u001b[0;31mKeyError\u001b[0m                                  Traceback (most recent call last)",
      "\u001b[0;32m/var/folders/r0/2m99vr9541v8dlydfddwbqkr0000gn/T/ipykernel_14858/1733478593.py\u001b[0m in \u001b[0;36m<module>\u001b[0;34m\u001b[0m\n\u001b[1;32m     15\u001b[0m             \u001b[0mstop\u001b[0m\u001b[0;34m=\u001b[0m\u001b[0;34m\"\\n\"\u001b[0m\u001b[0;34m\u001b[0m\u001b[0;34m\u001b[0m\u001b[0m\n\u001b[1;32m     16\u001b[0m         )\n\u001b[0;32m---> 17\u001b[0;31m         \u001b[0;32mif\u001b[0m \u001b[0mresponse\u001b[0m\u001b[0;34m[\u001b[0m\u001b[0;34m\"data\"\u001b[0m\u001b[0;34m]\u001b[0m\u001b[0;34m:\u001b[0m\u001b[0;34m\u001b[0m\u001b[0;34m\u001b[0m\u001b[0m\n\u001b[0m\u001b[1;32m     18\u001b[0m             \u001b[0msummary\u001b[0m \u001b[0;34m=\u001b[0m \u001b[0mresponse\u001b[0m\u001b[0;34m[\u001b[0m\u001b[0;34m\"data\"\u001b[0m\u001b[0;34m]\u001b[0m\u001b[0;34m[\u001b[0m\u001b[0;36m0\u001b[0m\u001b[0;34m]\u001b[0m\u001b[0;34m[\u001b[0m\u001b[0;34m\"text\"\u001b[0m\u001b[0;34m]\u001b[0m\u001b[0;34m\u001b[0m\u001b[0;34m\u001b[0m\u001b[0m\n\u001b[1;32m     19\u001b[0m             \u001b[0mprint\u001b[0m\u001b[0;34m(\u001b[0m\u001b[0msummary\u001b[0m\u001b[0;34m)\u001b[0m\u001b[0;34m\u001b[0m\u001b[0;34m\u001b[0m\u001b[0m\n",
      "\u001b[0;31mKeyError\u001b[0m: 'data'"
     ]
    }
   ],
   "source": [
    "\n",
    "response = requests.get(url)\n",
    "\n",
    "if response.status_code == 200:\n",
    "    soup = BeautifulSoup(response.text, 'html.parser')\n",
    "    p_tags = soup.find_all('p')[:5]  # Limit to the first 5 <p> tags\n",
    "    if len(p_tags) > 0:\n",
    "        text = \"\\n\".join(p.text for p in p_tags)  # Combine text content of all <p> tags\n",
    "        # Call OpenAI API to generate summary of text content\n",
    "        response = openai.Completion.create(\n",
    "            engine=\"davinci\",\n",
    "            prompt=text,\n",
    "            max_tokens=60,\n",
    "            temperature=0.5,\n",
    "            n=1,\n",
    "            stop=\"\\n\"\n",
    "        )\n",
    "        if response[\"data\"]:\n",
    "            summary = response[\"data\"][0][\"text\"]\n",
    "            print(summary)\n",
    "        else:\n",
    "            print(\"Failed to generate summary.\")\n",
    "    else:\n",
    "        print(\"There are no <p> tags on the page.\")\n",
    "else:\n",
    "    print(\"Failed to get the webpage.\")"
   ]
  },
  {
   "cell_type": "code",
   "execution_count": null,
   "id": "80783050",
   "metadata": {},
   "outputs": [],
   "source": []
  }
 ],
 "metadata": {
  "kernelspec": {
   "display_name": "Python 3 (ipykernel)",
   "language": "python",
   "name": "python3"
  },
  "language_info": {
   "codemirror_mode": {
    "name": "ipython",
    "version": 3
   },
   "file_extension": ".py",
   "mimetype": "text/x-python",
   "name": "python",
   "nbconvert_exporter": "python",
   "pygments_lexer": "ipython3",
   "version": "3.9.13"
  }
 },
 "nbformat": 4,
 "nbformat_minor": 5
}
